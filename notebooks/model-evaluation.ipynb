{
 "cells": [
  {
   "cell_type": "code",
   "execution_count": 1,
   "metadata": {},
   "outputs": [
    {
     "name": "stderr",
     "output_type": "stream",
     "text": [
      "/anaconda/lib/python2.7/site-packages/sklearn/cross_validation.py:41: DeprecationWarning: This module was deprecated in version 0.18 in favor of the model_selection module into which all the refactored classes and functions are moved. Also note that the interface of the new CV iterators are different from that of this module. This module will be removed in 0.20.\n",
      "  \"This module will be removed in 0.20.\", DeprecationWarning)\n"
     ]
    }
   ],
   "source": [
    "from sklearn.cross_validation import KFold\n",
    "import pandas as pd\n",
    "import numpy as np"
   ]
  },
  {
   "cell_type": "code",
   "execution_count": 2,
   "metadata": {},
   "outputs": [
    {
     "name": "stdout",
     "output_type": "stream",
     "text": [
      "(2101, 267)\n"
     ]
    },
    {
     "data": {
      "text/html": [
       "<div>\n",
       "<style>\n",
       "    .dataframe thead tr:only-child th {\n",
       "        text-align: right;\n",
       "    }\n",
       "\n",
       "    .dataframe thead th {\n",
       "        text-align: left;\n",
       "    }\n",
       "\n",
       "    .dataframe tbody tr th {\n",
       "        vertical-align: top;\n",
       "    }\n",
       "</style>\n",
       "<table border=\"1\" class=\"dataframe\">\n",
       "  <thead>\n",
       "    <tr style=\"text-align: right;\">\n",
       "      <th></th>\n",
       "      <th>census_tract</th>\n",
       "      <th>label</th>\n",
       "      <th>label_bucket</th>\n",
       "      <th>num_checkins</th>\n",
       "      <th>num_park</th>\n",
       "      <th>num_fri</th>\n",
       "      <th>num_4pm_8pm</th>\n",
       "      <th>num_thu</th>\n",
       "      <th>num_12pm_4pm</th>\n",
       "      <th>num_bus_station</th>\n",
       "      <th>...</th>\n",
       "      <th>num_swiss_restaurant</th>\n",
       "      <th>num_peruvian_restaurant</th>\n",
       "      <th>num_gluten_free_restaurant</th>\n",
       "      <th>num_funeral_home</th>\n",
       "      <th>num_law_school</th>\n",
       "      <th>num_pet_service</th>\n",
       "      <th>num_recycling_facility</th>\n",
       "      <th>num_internet_cafe</th>\n",
       "      <th>num_motorcycle_shop</th>\n",
       "      <th>num_planetarium</th>\n",
       "    </tr>\n",
       "  </thead>\n",
       "  <tbody>\n",
       "    <tr>\n",
       "      <th>0</th>\n",
       "      <td>36005000200</td>\n",
       "      <td>72034.0</td>\n",
       "      <td>54596 &lt;= x &lt;= 73345</td>\n",
       "      <td>1.0</td>\n",
       "      <td>1.0</td>\n",
       "      <td>1.0</td>\n",
       "      <td>1.0</td>\n",
       "      <td>0.0</td>\n",
       "      <td>0.0</td>\n",
       "      <td>0.0</td>\n",
       "      <td>...</td>\n",
       "      <td>0.0</td>\n",
       "      <td>0.0</td>\n",
       "      <td>0.0</td>\n",
       "      <td>0.0</td>\n",
       "      <td>0.0</td>\n",
       "      <td>0.0</td>\n",
       "      <td>0.0</td>\n",
       "      <td>0.0</td>\n",
       "      <td>0.0</td>\n",
       "      <td>0.0</td>\n",
       "    </tr>\n",
       "    <tr>\n",
       "      <th>1</th>\n",
       "      <td>36005000400</td>\n",
       "      <td>74836.0</td>\n",
       "      <td>73346 &lt;= x &lt;= 244375</td>\n",
       "      <td>1.0</td>\n",
       "      <td>1.0</td>\n",
       "      <td>0.0</td>\n",
       "      <td>0.0</td>\n",
       "      <td>1.0</td>\n",
       "      <td>1.0</td>\n",
       "      <td>0.0</td>\n",
       "      <td>...</td>\n",
       "      <td>0.0</td>\n",
       "      <td>0.0</td>\n",
       "      <td>0.0</td>\n",
       "      <td>0.0</td>\n",
       "      <td>0.0</td>\n",
       "      <td>0.0</td>\n",
       "      <td>0.0</td>\n",
       "      <td>0.0</td>\n",
       "      <td>0.0</td>\n",
       "      <td>0.0</td>\n",
       "    </tr>\n",
       "    <tr>\n",
       "      <th>2</th>\n",
       "      <td>36005001600</td>\n",
       "      <td>32312.0</td>\n",
       "      <td>9829 &lt;= x &lt;= 39457</td>\n",
       "      <td>76.0</td>\n",
       "      <td>0.0</td>\n",
       "      <td>41.0</td>\n",
       "      <td>16.0</td>\n",
       "      <td>1.0</td>\n",
       "      <td>17.0</td>\n",
       "      <td>6.0</td>\n",
       "      <td>...</td>\n",
       "      <td>0.0</td>\n",
       "      <td>0.0</td>\n",
       "      <td>0.0</td>\n",
       "      <td>0.0</td>\n",
       "      <td>0.0</td>\n",
       "      <td>0.0</td>\n",
       "      <td>0.0</td>\n",
       "      <td>0.0</td>\n",
       "      <td>0.0</td>\n",
       "      <td>0.0</td>\n",
       "    </tr>\n",
       "    <tr>\n",
       "      <th>3</th>\n",
       "      <td>36005001900</td>\n",
       "      <td>37936.0</td>\n",
       "      <td>9829 &lt;= x &lt;= 39457</td>\n",
       "      <td>77.0</td>\n",
       "      <td>0.0</td>\n",
       "      <td>1.0</td>\n",
       "      <td>33.0</td>\n",
       "      <td>5.0</td>\n",
       "      <td>30.0</td>\n",
       "      <td>0.0</td>\n",
       "      <td>...</td>\n",
       "      <td>0.0</td>\n",
       "      <td>0.0</td>\n",
       "      <td>0.0</td>\n",
       "      <td>0.0</td>\n",
       "      <td>0.0</td>\n",
       "      <td>0.0</td>\n",
       "      <td>0.0</td>\n",
       "      <td>0.0</td>\n",
       "      <td>0.0</td>\n",
       "      <td>0.0</td>\n",
       "    </tr>\n",
       "    <tr>\n",
       "      <th>4</th>\n",
       "      <td>36005002000</td>\n",
       "      <td>18086.0</td>\n",
       "      <td>9829 &lt;= x &lt;= 39457</td>\n",
       "      <td>4.0</td>\n",
       "      <td>0.0</td>\n",
       "      <td>1.0</td>\n",
       "      <td>1.0</td>\n",
       "      <td>0.0</td>\n",
       "      <td>0.0</td>\n",
       "      <td>0.0</td>\n",
       "      <td>...</td>\n",
       "      <td>0.0</td>\n",
       "      <td>0.0</td>\n",
       "      <td>0.0</td>\n",
       "      <td>0.0</td>\n",
       "      <td>0.0</td>\n",
       "      <td>0.0</td>\n",
       "      <td>0.0</td>\n",
       "      <td>0.0</td>\n",
       "      <td>0.0</td>\n",
       "      <td>0.0</td>\n",
       "    </tr>\n",
       "  </tbody>\n",
       "</table>\n",
       "<p>5 rows × 267 columns</p>\n",
       "</div>"
      ],
      "text/plain": [
       "   census_tract    label          label_bucket  num_checkins  num_park  \\\n",
       "0   36005000200  72034.0   54596 <= x <= 73345           1.0       1.0   \n",
       "1   36005000400  74836.0  73346 <= x <= 244375           1.0       1.0   \n",
       "2   36005001600  32312.0    9829 <= x <= 39457          76.0       0.0   \n",
       "3   36005001900  37936.0    9829 <= x <= 39457          77.0       0.0   \n",
       "4   36005002000  18086.0    9829 <= x <= 39457           4.0       0.0   \n",
       "\n",
       "   num_fri  num_4pm_8pm  num_thu  num_12pm_4pm  num_bus_station  \\\n",
       "0      1.0          1.0      0.0           0.0              0.0   \n",
       "1      0.0          0.0      1.0           1.0              0.0   \n",
       "2     41.0         16.0      1.0          17.0              6.0   \n",
       "3      1.0         33.0      5.0          30.0              0.0   \n",
       "4      1.0          1.0      0.0           0.0              0.0   \n",
       "\n",
       "        ...         num_swiss_restaurant  num_peruvian_restaurant  \\\n",
       "0       ...                          0.0                      0.0   \n",
       "1       ...                          0.0                      0.0   \n",
       "2       ...                          0.0                      0.0   \n",
       "3       ...                          0.0                      0.0   \n",
       "4       ...                          0.0                      0.0   \n",
       "\n",
       "   num_gluten_free_restaurant  num_funeral_home  num_law_school  \\\n",
       "0                         0.0               0.0             0.0   \n",
       "1                         0.0               0.0             0.0   \n",
       "2                         0.0               0.0             0.0   \n",
       "3                         0.0               0.0             0.0   \n",
       "4                         0.0               0.0             0.0   \n",
       "\n",
       "   num_pet_service  num_recycling_facility  num_internet_cafe  \\\n",
       "0              0.0                     0.0                0.0   \n",
       "1              0.0                     0.0                0.0   \n",
       "2              0.0                     0.0                0.0   \n",
       "3              0.0                     0.0                0.0   \n",
       "4              0.0                     0.0                0.0   \n",
       "\n",
       "   num_motorcycle_shop  num_planetarium  \n",
       "0                  0.0              0.0  \n",
       "1                  0.0              0.0  \n",
       "2                  0.0              0.0  \n",
       "3                  0.0              0.0  \n",
       "4                  0.0              0.0  \n",
       "\n",
       "[5 rows x 267 columns]"
      ]
     },
     "execution_count": 2,
     "metadata": {},
     "output_type": "execute_result"
    }
   ],
   "source": [
    "data = pd.read_csv('../data/processed/cat_week_time_264.csv')\n",
    "data = data.fillna(0)\n",
    "print data.shape\n",
    "data.head()"
   ]
  },
  {
   "cell_type": "markdown",
   "metadata": {},
   "source": [
    "### define data and labels"
   ]
  },
  {
   "cell_type": "code",
   "execution_count": 3,
   "metadata": {},
   "outputs": [
    {
     "name": "stderr",
     "output_type": "stream",
     "text": [
      "/anaconda/lib/python2.7/site-packages/sklearn/utils/validation.py:444: DataConversionWarning: Data with input dtype int64 was converted to float64 by MinMaxScaler.\n",
      "  warnings.warn(msg, DataConversionWarning)\n"
     ]
    }
   ],
   "source": [
    "X = data.as_matrix()[:, 3:len(data)-1].astype(int) # take all cols after first 2\n",
    "y = data['label_bucket'].as_matrix()\n",
    "\n",
    "from sklearn import preprocessing\n",
    "# Create a minimum and maximum processor object\n",
    "min_max_scaler = preprocessing.MinMaxScaler()\n",
    "\n",
    "# Create an object to transform the data to fit minmax processor\n",
    "X_norm = min_max_scaler.fit_transform(X)"
   ]
  },
  {
   "cell_type": "markdown",
   "metadata": {},
   "source": [
    "### split into train-dev/test folds"
   ]
  },
  {
   "cell_type": "code",
   "execution_count": 4,
   "metadata": {
    "collapsed": true
   },
   "outputs": [],
   "source": [
    "from sklearn.model_selection import train_test_split\n",
    "\n",
    "NUM_FOLDS = 5\n",
    "test_size = 1.0/(NUM_FOLDS+1)\n",
    "X_train, X_test, y_train, y_test = train_test_split(X_norm, y, test_size=test_size)"
   ]
  },
  {
   "cell_type": "markdown",
   "metadata": {},
   "source": [
    "### define cross-validation/final evaluation functions"
   ]
  },
  {
   "cell_type": "code",
   "execution_count": 5,
   "metadata": {
    "collapsed": true
   },
   "outputs": [],
   "source": [
    "from sklearn.cross_validation import KFold\n",
    "from sklearn.model_selection import train_test_split\n",
    "\n",
    "def cross_validate(model, X, y, folds=5):\n",
    "    (M, n) = X.shape\n",
    "    kf = KFold(M, n_folds=folds) # Define the split (5 folds)kf:\n",
    "    \n",
    "    train_accuracies = []\n",
    "    test_accuracies = []\n",
    "    for train_index, test_index in kf:\n",
    "#         print '**fold**'\n",
    "        X_train, X_test = X[train_index], X[test_index]\n",
    "        y_train, y_test = y[train_index], y[test_index]\n",
    "\n",
    "        clf = model.fit(X_train, y_train)\n",
    "        y_train_pred = clf.predict(X_train)\n",
    "        y_test_pred = clf.predict(X_test)\n",
    "        \n",
    "        train_acc = 1.0*(y_train == y_train_pred).sum()/ len(y_train)\n",
    "        train_accuracies.append(train_acc)\n",
    "#         print 'train acc:', train_acc\n",
    "        \n",
    "        test_acc = 1.0*(y_test == y_test_pred).sum()/ len(y_test)\n",
    "        test_accuracies.append(test_acc)\n",
    "#         print 'test acc:', test_acc\n",
    "\n",
    "    mean_train = np.mean(train_accuracies)\n",
    "    mean_test = np.mean(test_accuracies)\n",
    "    return (mean_train, mean_test)\n",
    "\n",
    "def final_eval(model, X, y):\n",
    "    clf = model.fit(X_train, y_train)\n",
    "    y_test_pred = clf.predict(X_test)\n",
    "    final_test_acc = 1.0*(y_test == y_test_pred).sum()/ len(y_test)\n",
    "\n",
    "    return final_test_acc"
   ]
  },
  {
   "cell_type": "markdown",
   "metadata": {},
   "source": [
    "### evaluate multiple models"
   ]
  },
  {
   "cell_type": "code",
   "execution_count": 6,
   "metadata": {
    "scrolled": true
   },
   "outputs": [
    {
     "name": "stderr",
     "output_type": "stream",
     "text": [
      "/anaconda/lib/python2.7/site-packages/sklearn/linear_model/stochastic_gradient.py:84: FutureWarning: max_iter and tol parameters have been added in <class 'sklearn.linear_model.stochastic_gradient.SGDClassifier'> in 0.19. If both are left unset, they default to max_iter=5 and tol=None. If tol is not None, max_iter defaults to max_iter=1000. From 0.21, default max_iter will be 1000, and default tol will be 1e-3.\n",
      "  \"and default tol will be 1e-3.\" % type(self), FutureWarning)\n"
     ]
    },
    {
     "name": "stdout",
     "output_type": "stream",
     "text": [
      "processing: mlp\n",
      "processing: lda\n"
     ]
    },
    {
     "name": "stderr",
     "output_type": "stream",
     "text": [
      "/anaconda/lib/python2.7/site-packages/sklearn/discriminant_analysis.py:388: UserWarning: Variables are collinear.\n",
      "  warnings.warn(\"Variables are collinear.\")\n"
     ]
    },
    {
     "name": "stdout",
     "output_type": "stream",
     "text": [
      "processing: lr\n",
      "processing: gb\n",
      "processing: linear_svc\n",
      "processing: qda\n"
     ]
    },
    {
     "name": "stderr",
     "output_type": "stream",
     "text": [
      "/anaconda/lib/python2.7/site-packages/sklearn/discriminant_analysis.py:682: UserWarning: Variables are collinear\n",
      "  warnings.warn(\"Variables are collinear\")\n"
     ]
    },
    {
     "name": "stdout",
     "output_type": "stream",
     "text": [
      "processing: nb\n",
      "processing: ada\n",
      "processing: svc\n",
      "processing: sgd\n"
     ]
    },
    {
     "data": {
      "text/html": [
       "<div>\n",
       "<style>\n",
       "    .dataframe thead tr:only-child th {\n",
       "        text-align: right;\n",
       "    }\n",
       "\n",
       "    .dataframe thead th {\n",
       "        text-align: left;\n",
       "    }\n",
       "\n",
       "    .dataframe tbody tr th {\n",
       "        vertical-align: top;\n",
       "    }\n",
       "</style>\n",
       "<table border=\"1\" class=\"dataframe\">\n",
       "  <thead>\n",
       "    <tr style=\"text-align: right;\">\n",
       "      <th></th>\n",
       "      <th>model</th>\n",
       "      <th>train</th>\n",
       "      <th>cross-val</th>\n",
       "      <th>final</th>\n",
       "    </tr>\n",
       "  </thead>\n",
       "  <tbody>\n",
       "    <tr>\n",
       "      <th>0</th>\n",
       "      <td>mlp</td>\n",
       "      <td>0.463857</td>\n",
       "      <td>0.300000</td>\n",
       "      <td>0.393162</td>\n",
       "    </tr>\n",
       "    <tr>\n",
       "      <th>1</th>\n",
       "      <td>lda</td>\n",
       "      <td>0.491571</td>\n",
       "      <td>0.294286</td>\n",
       "      <td>0.293447</td>\n",
       "    </tr>\n",
       "    <tr>\n",
       "      <th>2</th>\n",
       "      <td>lr</td>\n",
       "      <td>0.369286</td>\n",
       "      <td>0.301143</td>\n",
       "      <td>0.367521</td>\n",
       "    </tr>\n",
       "    <tr>\n",
       "      <th>3</th>\n",
       "      <td>gb</td>\n",
       "      <td>0.699286</td>\n",
       "      <td>0.358857</td>\n",
       "      <td>0.430199</td>\n",
       "    </tr>\n",
       "    <tr>\n",
       "      <th>4</th>\n",
       "      <td>linear_svc</td>\n",
       "      <td>0.467857</td>\n",
       "      <td>0.331429</td>\n",
       "      <td>0.353276</td>\n",
       "    </tr>\n",
       "    <tr>\n",
       "      <th>5</th>\n",
       "      <td>qda</td>\n",
       "      <td>0.605571</td>\n",
       "      <td>0.314286</td>\n",
       "      <td>0.356125</td>\n",
       "    </tr>\n",
       "    <tr>\n",
       "      <th>6</th>\n",
       "      <td>nb</td>\n",
       "      <td>0.421714</td>\n",
       "      <td>0.308000</td>\n",
       "      <td>0.319088</td>\n",
       "    </tr>\n",
       "    <tr>\n",
       "      <th>7</th>\n",
       "      <td>ada</td>\n",
       "      <td>0.443714</td>\n",
       "      <td>0.326286</td>\n",
       "      <td>0.390313</td>\n",
       "    </tr>\n",
       "    <tr>\n",
       "      <th>8</th>\n",
       "      <td>svc</td>\n",
       "      <td>0.262429</td>\n",
       "      <td>0.230857</td>\n",
       "      <td>0.225071</td>\n",
       "    </tr>\n",
       "    <tr>\n",
       "      <th>9</th>\n",
       "      <td>sgd</td>\n",
       "      <td>0.395714</td>\n",
       "      <td>0.289714</td>\n",
       "      <td>0.316239</td>\n",
       "    </tr>\n",
       "  </tbody>\n",
       "</table>\n",
       "</div>"
      ],
      "text/plain": [
       "        model     train  cross-val     final\n",
       "0         mlp  0.463857   0.300000  0.393162\n",
       "1         lda  0.491571   0.294286  0.293447\n",
       "2          lr  0.369286   0.301143  0.367521\n",
       "3          gb  0.699286   0.358857  0.430199\n",
       "4  linear_svc  0.467857   0.331429  0.353276\n",
       "5         qda  0.605571   0.314286  0.356125\n",
       "6          nb  0.421714   0.308000  0.319088\n",
       "7         ada  0.443714   0.326286  0.390313\n",
       "8         svc  0.262429   0.230857  0.225071\n",
       "9         sgd  0.395714   0.289714  0.316239"
      ]
     },
     "execution_count": 6,
     "metadata": {},
     "output_type": "execute_result"
    }
   ],
   "source": [
    "from sklearn.svm import SVC\n",
    "from sklearn.svm import LinearSVC\n",
    "from sklearn.naive_bayes import GaussianNB\n",
    "from sklearn.neural_network import MLPClassifier\n",
    "from sklearn.discriminant_analysis import QuadraticDiscriminantAnalysis\n",
    "from sklearn.discriminant_analysis import LinearDiscriminantAnalysis\n",
    "from sklearn.ensemble import GradientBoostingClassifier\n",
    "from sklearn.ensemble import AdaBoostClassifier\n",
    "from sklearn.linear_model import SGDClassifier\n",
    "from sklearn.linear_model import LogisticRegression\n",
    "from sklearn import svm\n",
    "\n",
    "\n",
    "models = {\n",
    "    'svc': SVC(),\n",
    "    'linear_svc': LinearSVC(),\n",
    "    'nb': GaussianNB(),\n",
    "    'qda': QuadraticDiscriminantAnalysis(),\n",
    "    'lda': LinearDiscriminantAnalysis(),\n",
    "    'gb': GradientBoostingClassifier(),\n",
    "    'ada': AdaBoostClassifier(),\n",
    "    'sgd': SGDClassifier(),\n",
    "    'lr': LogisticRegression(penalty='l1'),\n",
    "    'mlp': MLPClassifier(hidden_layer_sizes=(5, 5,4), activation='relu', alpha=0.001, max_iter=1000),\n",
    "}\n",
    "\n",
    "cols = ['model', 'train', 'cross-val', 'final']\n",
    "results = pd.DataFrame(np.zeros((len(models), len(cols))), columns=cols)\n",
    "results.head()\n",
    "for idx, (mk, mv) in enumerate(models.iteritems()):\n",
    "    print 'processing:', mk\n",
    "\n",
    "    mean_train, mean_test = cross_validate(mv, X_train, y_train, folds=NUM_FOLDS)\n",
    "    results.iloc[idx, 0] = mk\n",
    "    results.iloc[idx, 1] = mean_train\n",
    "    results.iloc[idx, 2] = mean_test\n",
    "#     results.iloc[idx, 3] = np.nan\n",
    "    results.iloc[idx, 3] = final_eval(mv, X_test, y_test)\n",
    "\n",
    "# output_table\n",
    "results"
   ]
  },
  {
   "cell_type": "code",
   "execution_count": 7,
   "metadata": {},
   "outputs": [
    {
     "name": "stdout",
     "output_type": "stream",
     "text": [
      "0.415954415954\n"
     ]
    }
   ],
   "source": [
    "from sklearn.ensemble import GradientBoostingClassifier\n",
    "gb = GradientBoostingClassifier()\n",
    "clf = gb.fit(X_train, y_train)\n",
    "y_test_pred = clf.predict(X_test)\n",
    "final_test_acc = 1.0*(y_test == y_test_pred).sum()/ len(y_test)\n",
    "print final_test_acc"
   ]
  },
  {
   "cell_type": "markdown",
   "metadata": {},
   "source": [
    "### uncomment below for hyperparameter search"
   ]
  },
  {
   "cell_type": "code",
   "execution_count": 8,
   "metadata": {
    "collapsed": true
   },
   "outputs": [],
   "source": [
    "# subsample_search = np.linspace(0.1, 1.0, 10)\n",
    "# lr_search = np.linspace(0.1, 0.3, 10)\n",
    "# best_test = -1\n",
    "# best_lr = None\n",
    "# best_sub = None\n",
    "# for sub in subsample_search:\n",
    "#     for lr in lr_search: \n",
    "#         gb = GradientBoostingClassifier(learning_rate=lr, subsample=sub)\n",
    "#         train, test = cross_validate(gb, X_train, y_train, folds=NUM_FOLDS)\n",
    "#         final = final_eval(gb, X_test, y_test)\n",
    "#         print 'sub:', sub, 'lr:', lr, 'train:', train, 'test:', test, 'final:', final\n",
    "#         if test > best_test:\n",
    "#             print 'new best'\n",
    "#             best_lr = lr\n",
    "#             best_sub = sub\n",
    "#             best_test = test\n",
    "# # print final_eval(mv, X_test, y_test)"
   ]
  },
  {
   "cell_type": "code",
   "execution_count": 9,
   "metadata": {
    "collapsed": true
   },
   "outputs": [],
   "source": [
    "# # best_lr = 0.157903157895\n",
    "# # lr: 0.133338888889 train: 0.744 test: 0.406285714286\n",
    "# best_lrs = [0.133338888889]\n",
    "# for lr in best_lrs: \n",
    "#     gb = GradientBoostingClassifier(learning_rate=lr)\n",
    "#     train, test = cross_validate(gb, X_train, y_train, folds=NUM_FOLDS)\n",
    "#     final = final_eval(gb, X_test, y_test)\n",
    "#     print 'lr:', lr, 'test:', test, 'final:', final"
   ]
  },
  {
   "cell_type": "code",
   "execution_count": 10,
   "metadata": {
    "collapsed": true
   },
   "outputs": [],
   "source": [
    "import matplotlib.pyplot as plt\n",
    "import itertools\n",
    "def plot_confusion_matrix(cm, classes,\n",
    "                          normalize=False,\n",
    "                          title='Confusion matrix',\n",
    "                          cmap=plt.cm.Blues):\n",
    "    \"\"\"\n",
    "    This function prints and plots the confusion matrix.\n",
    "    Normalization can be applied by setting `normalize=True`.\n",
    "    \"\"\"\n",
    "    if normalize:\n",
    "        cm = cm.astype('float') / cm.sum(axis=1)[:, np.newaxis]\n",
    "        print(\"Normalized confusion matrix\")\n",
    "    else:\n",
    "        print('Confusion matrix, without normalization')\n",
    "\n",
    "    print(cm)\n",
    "\n",
    "    plt.imshow(cm, interpolation='nearest', cmap=cmap)\n",
    "    plt.title(title)\n",
    "    plt.colorbar()\n",
    "    tick_marks = np.arange(len(classes))\n",
    "    plt.xticks(tick_marks, classes, rotation=45)\n",
    "    plt.yticks(tick_marks, classes)\n",
    "\n",
    "    fmt = '.2f' if normalize else 'd'\n",
    "    thresh = cm.max() / 2.\n",
    "    for i, j in itertools.product(range(cm.shape[0]), range(cm.shape[1])):\n",
    "        plt.text(j, i, format(cm[i, j], fmt),\n",
    "                 horizontalalignment=\"center\",\n",
    "                 color=\"white\" if cm[i, j] > thresh else \"black\")\n",
    "\n",
    "    plt.tight_layout()\n",
    "    plt.ylabel('True label')\n",
    "    plt.xlabel('Predicted label')\n",
    "    plt.tight_layout()\n",
    "#     plt.savefig('cnf_mtx.png', dpi = 300)\n",
    "    plt.show()"
   ]
  },
  {
   "cell_type": "code",
   "execution_count": 11,
   "metadata": {},
   "outputs": [
    {
     "name": "stdout",
     "output_type": "stream",
     "text": [
      "Normalized confusion matrix\n",
      "[[ 0.40659341  0.25274725  0.28571429  0.05494505]\n",
      " [ 0.36        0.21333333  0.34666667  0.08      ]\n",
      " [ 0.14814815  0.19753086  0.50617284  0.14814815]\n",
      " [ 0.14423077  0.10576923  0.25        0.5       ]]\n"
     ]
    },
    {
     "data": {
      "image/png": "[encoded data removed]",
      "text/plain": [
       "<matplotlib.figure.Figure at 0x10e291190>"
      ]
     },
     "metadata": {},
     "output_type": "display_data"
    }
   ],
   "source": [
    "from sklearn.metrics import confusion_matrix\n",
    "\n",
    "labels = ['9829 <= x <= 39457',\n",
    "          '39458 <= x <= 54595', \n",
    "          '54596 <= x <= 73345', \n",
    "          '73346 <= x <= 244375']\n",
    "\n",
    "cnf_matrix = confusion_matrix(y_test, y_test_pred, labels=labels)\n",
    "# np.save('confusion_matrix.npy', cnf_matrix)\n",
    "plot_confusion_matrix(cnf_matrix, classes=['Q1 (0-25%)', 'Q2 (25-50%)', 'Q3 (50-75%)', 'Q4 (75-100%)'], normalize=True, title='')"
   ]
  },
  {
   "cell_type": "code",
   "execution_count": null,
   "metadata": {
    "collapsed": true
   },
   "outputs": [],
   "source": []
  }
 ],
 "metadata": {
  "kernelspec": {
   "display_name": "Python 2",
   "language": "python",
   "name": "python2"
  },
  "language_info": {
   "codemirror_mode": {
    "name": "ipython",
    "version": 2
   },
   "file_extension": ".py",
   "mimetype": "text/x-python",
   "name": "python",
   "nbconvert_exporter": "python",
   "pygments_lexer": "ipython2",
   "version": "2.7.13"
  }
 },
 "nbformat": 4,
 "nbformat_minor": 1
}
