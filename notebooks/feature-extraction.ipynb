{
 "cells": [
  {
   "cell_type": "code",
   "execution_count": 1,
   "metadata": {
    "collapsed": true
   },
   "outputs": [],
   "source": [
    "import pandas as pd\n",
    "import numpy as np"
   ]
  },
  {
   "cell_type": "markdown",
   "metadata": {},
   "source": [
    "### Join census tracts and check-in dataset "
   ]
  },
  {
   "cell_type": "code",
   "execution_count": 2,
   "metadata": {},
   "outputs": [],
   "source": [
    "census_tracts = pd.read_csv('../data/processed/census_tracts_per_checkin.csv')\n",
    "checkin_dataset = pd.read_csv('../data/raw/foursquare-nyc-check-ins/dataset_TSMC2014_NYC.csv')\n",
    "checkin_dataset['censusTract'] = census_tracts['census_tract']"
   ]
  },
  {
   "cell_type": "code",
   "execution_count": 3,
   "metadata": {},
   "outputs": [
    {
     "data": {
      "text/html": [
       "<div>\n",
       "<style>\n",
       "    .dataframe thead tr:only-child th {\n",
       "        text-align: right;\n",
       "    }\n",
       "\n",
       "    .dataframe thead th {\n",
       "        text-align: left;\n",
       "    }\n",
       "\n",
       "    .dataframe tbody tr th {\n",
       "        vertical-align: top;\n",
       "    }\n",
       "</style>\n",
       "<table border=\"1\" class=\"dataframe\">\n",
       "  <thead>\n",
       "    <tr style=\"text-align: right;\">\n",
       "      <th></th>\n",
       "      <th>userId</th>\n",
       "      <th>venueId</th>\n",
       "      <th>venueCategoryId</th>\n",
       "      <th>venueCategory</th>\n",
       "      <th>latitude</th>\n",
       "      <th>longitude</th>\n",
       "      <th>timezoneOffset</th>\n",
       "      <th>utcTimestamp</th>\n",
       "      <th>censusTract</th>\n",
       "    </tr>\n",
       "  </thead>\n",
       "  <tbody>\n",
       "    <tr>\n",
       "      <th>0</th>\n",
       "      <td>470</td>\n",
       "      <td>49bbd6c0f964a520f4531fe3</td>\n",
       "      <td>4bf58dd8d48988d127951735</td>\n",
       "      <td>Arts &amp; Crafts Store</td>\n",
       "      <td>40.719810</td>\n",
       "      <td>-74.002581</td>\n",
       "      <td>-240</td>\n",
       "      <td>Tue Apr 03 18:00:09 +0000 2012</td>\n",
       "      <td>36061003300</td>\n",
       "    </tr>\n",
       "    <tr>\n",
       "      <th>1</th>\n",
       "      <td>979</td>\n",
       "      <td>4a43c0aef964a520c6a61fe3</td>\n",
       "      <td>4bf58dd8d48988d1df941735</td>\n",
       "      <td>Bridge</td>\n",
       "      <td>40.606800</td>\n",
       "      <td>-74.044170</td>\n",
       "      <td>-240</td>\n",
       "      <td>Tue Apr 03 18:00:25 +0000 2012</td>\n",
       "      <td>36085001800</td>\n",
       "    </tr>\n",
       "    <tr>\n",
       "      <th>2</th>\n",
       "      <td>69</td>\n",
       "      <td>4c5cc7b485a1e21e00d35711</td>\n",
       "      <td>4bf58dd8d48988d103941735</td>\n",
       "      <td>Home (private)</td>\n",
       "      <td>40.716162</td>\n",
       "      <td>-73.883070</td>\n",
       "      <td>-240</td>\n",
       "      <td>Tue Apr 03 18:02:24 +0000 2012</td>\n",
       "      <td>36081065900</td>\n",
       "    </tr>\n",
       "    <tr>\n",
       "      <th>3</th>\n",
       "      <td>395</td>\n",
       "      <td>4bc7086715a7ef3bef9878da</td>\n",
       "      <td>4bf58dd8d48988d104941735</td>\n",
       "      <td>Medical Center</td>\n",
       "      <td>40.745164</td>\n",
       "      <td>-73.982519</td>\n",
       "      <td>-240</td>\n",
       "      <td>Tue Apr 03 18:02:41 +0000 2012</td>\n",
       "      <td>36061007200</td>\n",
       "    </tr>\n",
       "    <tr>\n",
       "      <th>4</th>\n",
       "      <td>87</td>\n",
       "      <td>4cf2c5321d18a143951b5cec</td>\n",
       "      <td>4bf58dd8d48988d1cb941735</td>\n",
       "      <td>Food Truck</td>\n",
       "      <td>40.740104</td>\n",
       "      <td>-73.989658</td>\n",
       "      <td>-240</td>\n",
       "      <td>Tue Apr 03 18:03:00 +0000 2012</td>\n",
       "      <td>36061005600</td>\n",
       "    </tr>\n",
       "  </tbody>\n",
       "</table>\n",
       "</div>"
      ],
      "text/plain": [
       "   userId                   venueId           venueCategoryId  \\\n",
       "0     470  49bbd6c0f964a520f4531fe3  4bf58dd8d48988d127951735   \n",
       "1     979  4a43c0aef964a520c6a61fe3  4bf58dd8d48988d1df941735   \n",
       "2      69  4c5cc7b485a1e21e00d35711  4bf58dd8d48988d103941735   \n",
       "3     395  4bc7086715a7ef3bef9878da  4bf58dd8d48988d104941735   \n",
       "4      87  4cf2c5321d18a143951b5cec  4bf58dd8d48988d1cb941735   \n",
       "\n",
       "         venueCategory   latitude  longitude  timezoneOffset  \\\n",
       "0  Arts & Crafts Store  40.719810 -74.002581            -240   \n",
       "1               Bridge  40.606800 -74.044170            -240   \n",
       "2       Home (private)  40.716162 -73.883070            -240   \n",
       "3       Medical Center  40.745164 -73.982519            -240   \n",
       "4           Food Truck  40.740104 -73.989658            -240   \n",
       "\n",
       "                     utcTimestamp  censusTract  \n",
       "0  Tue Apr 03 18:00:09 +0000 2012  36061003300  \n",
       "1  Tue Apr 03 18:00:25 +0000 2012  36085001800  \n",
       "2  Tue Apr 03 18:02:24 +0000 2012  36081065900  \n",
       "3  Tue Apr 03 18:02:41 +0000 2012  36061007200  \n",
       "4  Tue Apr 03 18:03:00 +0000 2012  36061005600  "
      ]
     },
     "execution_count": 3,
     "metadata": {},
     "output_type": "execute_result"
    }
   ],
   "source": [
    "checkin_dataset.head()"
   ]
  },
  {
   "cell_type": "markdown",
   "metadata": {},
   "source": [
    "### Filter tracts with no income for census tract"
   ]
  },
  {
   "cell_type": "code",
   "execution_count": 4,
   "metadata": {},
   "outputs": [
    {
     "name": "stdout",
     "output_type": "stream",
     "text": [
      "total census tracts: 2167\n",
      "excluded null: 2101\n"
     ]
    },
    {
     "data": {
      "text/html": [
       "<div>\n",
       "<style>\n",
       "    .dataframe thead tr:only-child th {\n",
       "        text-align: right;\n",
       "    }\n",
       "\n",
       "    .dataframe thead th {\n",
       "        text-align: left;\n",
       "    }\n",
       "\n",
       "    .dataframe tbody tr th {\n",
       "        vertical-align: top;\n",
       "    }\n",
       "</style>\n",
       "<table border=\"1\" class=\"dataframe\">\n",
       "  <thead>\n",
       "    <tr style=\"text-align: right;\">\n",
       "      <th></th>\n",
       "      <th>CensusTract</th>\n",
       "      <th>County</th>\n",
       "      <th>Borough</th>\n",
       "      <th>TotalPop</th>\n",
       "      <th>Men</th>\n",
       "      <th>Women</th>\n",
       "      <th>Hispanic</th>\n",
       "      <th>White</th>\n",
       "      <th>Black</th>\n",
       "      <th>Native</th>\n",
       "      <th>...</th>\n",
       "      <th>Walk</th>\n",
       "      <th>OtherTransp</th>\n",
       "      <th>WorkAtHome</th>\n",
       "      <th>MeanCommute</th>\n",
       "      <th>Employed</th>\n",
       "      <th>PrivateWork</th>\n",
       "      <th>PublicWork</th>\n",
       "      <th>SelfEmployed</th>\n",
       "      <th>FamilyWork</th>\n",
       "      <th>Unemployment</th>\n",
       "    </tr>\n",
       "  </thead>\n",
       "  <tbody>\n",
       "    <tr>\n",
       "      <th>1</th>\n",
       "      <td>36005000200</td>\n",
       "      <td>Bronx</td>\n",
       "      <td>Bronx</td>\n",
       "      <td>5403</td>\n",
       "      <td>2659</td>\n",
       "      <td>2744</td>\n",
       "      <td>75.8</td>\n",
       "      <td>2.3</td>\n",
       "      <td>16.0</td>\n",
       "      <td>0.0</td>\n",
       "      <td>...</td>\n",
       "      <td>2.9</td>\n",
       "      <td>0.0</td>\n",
       "      <td>0.0</td>\n",
       "      <td>43.0</td>\n",
       "      <td>2308</td>\n",
       "      <td>80.8</td>\n",
       "      <td>16.2</td>\n",
       "      <td>2.9</td>\n",
       "      <td>0.0</td>\n",
       "      <td>7.7</td>\n",
       "    </tr>\n",
       "  </tbody>\n",
       "</table>\n",
       "<p>1 rows × 36 columns</p>\n",
       "</div>"
      ],
      "text/plain": [
       "   CensusTract County Borough  TotalPop   Men  Women  Hispanic  White  Black  \\\n",
       "1  36005000200  Bronx   Bronx      5403  2659   2744      75.8    2.3   16.0   \n",
       "\n",
       "   Native      ...       Walk  OtherTransp  WorkAtHome  MeanCommute  Employed  \\\n",
       "1     0.0      ...        2.9          0.0         0.0         43.0      2308   \n",
       "\n",
       "   PrivateWork  PublicWork  SelfEmployed  FamilyWork  Unemployment  \n",
       "1         80.8        16.2           2.9         0.0           7.7  \n",
       "\n",
       "[1 rows x 36 columns]"
      ]
     },
     "execution_count": 4,
     "metadata": {},
     "output_type": "execute_result"
    }
   ],
   "source": [
    "labels_path = '../data/raw/new-york-city-census-data/'\n",
    "demographics = pd.read_csv(labels_path + 'nyc_census_tracts.csv')\n",
    "print 'total census tracts:', len(demographics)\n",
    "demographics = demographics[demographics['Income'].notnull()]\n",
    "print 'excluded null:', len(demographics)\n",
    "demographics.head(1)"
   ]
  },
  {
   "cell_type": "code",
   "execution_count": 5,
   "metadata": {
    "collapsed": true
   },
   "outputs": [],
   "source": [
    "examples = pd.DataFrame()\n",
    "examples['census_tract'] = demographics['CensusTract']\n",
    "examples['label'] = demographics['Income']\n",
    "examples = examples[examples['label'].notnull()]\n",
    "# examples = examples.head(100) # debug"
   ]
  },
  {
   "cell_type": "code",
   "execution_count": 6,
   "metadata": {
    "collapsed": true
   },
   "outputs": [],
   "source": [
    "# # use this cell to test features\n",
    "# checkins = checkin_dataset[checkin_dataset['censusTract'] == 36005022401]\n",
    "# curr_example = examples[examples['census_tract'] == 36005022401]  "
   ]
  },
  {
   "cell_type": "code",
   "execution_count": 7,
   "metadata": {
    "collapsed": true
   },
   "outputs": [],
   "source": [
    "# helper function to strip all non-alphanumericc characters to form feature keys\n",
    "import re\n",
    "def keyify_string(s):\n",
    "    return re.sub('[^0-9a-zA-Z]+', '_', s).lower()"
   ]
  },
  {
   "cell_type": "markdown",
   "metadata": {},
   "source": [
    "#### feature: total checkins per census tract"
   ]
  },
  {
   "cell_type": "code",
   "execution_count": 8,
   "metadata": {
    "collapsed": true
   },
   "outputs": [],
   "source": [
    "def get_num_checkins_key():\n",
    "        return 'num_checkins'\n",
    "\n",
    "def add_num_checkins(checkins, idx):    \n",
    "    examples.loc[idx, get_num_checkins_key()] = len(checkins)"
   ]
  },
  {
   "cell_type": "markdown",
   "metadata": {},
   "source": [
    "#### feature: num checkins per venue category"
   ]
  },
  {
   "cell_type": "code",
   "execution_count": 9,
   "metadata": {
    "collapsed": true
   },
   "outputs": [],
   "source": [
    "def get_num_category_key(s):\n",
    "    return 'num_' + keyify_string(s)\n",
    "\n",
    "def add_num_category(checkins, idx):\n",
    "    checkins_per_category = checkins.groupby('venueCategory').utcTimestamp.nunique()\n",
    "    for k, v in checkins_per_category.iteritems():\n",
    "        examples.loc[idx, get_num_category_key(k)] = v\n",
    "        \n",
    "possible_categories = [get_num_category_key(k) for k in checkin_dataset.venueCategory.unique()]"
   ]
  },
  {
   "cell_type": "markdown",
   "metadata": {},
   "source": [
    "#### feature: num checkins per weekday"
   ]
  },
  {
   "cell_type": "code",
   "execution_count": 10,
   "metadata": {
    "collapsed": true
   },
   "outputs": [],
   "source": [
    "import dateutil.parser\n",
    "import datetime\n",
    "from collections import Counter\n",
    "\n",
    "def get_num_weekday_key(weekday): \n",
    "    return 'num_' + keyify_string(weekday)\n",
    "\n",
    "def add_num_weekday(checkins, idx):\n",
    "    datetime_objects = [dateutil.parser.parse(ts) + datetime.timedelta(offset)  \\\n",
    "                        for ts, offset in zip(checkins['utcTimestamp'], checkins['timezoneOffset'])]\n",
    "    \n",
    "    weekdays = [datetime.datetime.strftime(dt, '%a') for dt in datetime_objects]\n",
    "    c = Counter(weekdays)\n",
    "    for k, v in zip(c.keys(), c.values()):\n",
    "        examples.loc[idx, get_num_weekday_key(k)] = v\n",
    "    \n",
    "possible_weekdays = ['Mon', 'Tue', 'Wed', 'Thu', 'Fri', 'Sat', 'Sun']"
   ]
  },
  {
   "cell_type": "markdown",
   "metadata": {},
   "source": [
    "#### feature: num checkins per 4-hour time bucket"
   ]
  },
  {
   "cell_type": "code",
   "execution_count": 11,
   "metadata": {
    "collapsed": true
   },
   "outputs": [],
   "source": [
    "def time_buckets(datetime_object):\n",
    "    hour = int(datetime.datetime.strftime(datetime_object, '%H'))\n",
    "    if hour <= 4: return '12am_4am'\n",
    "    if hour <= 8: return '4am_8am'\n",
    "    if hour <= 12: return '8am_12pm'\n",
    "    if hour <= 16: return '12pm_4pm'\n",
    "    if hour <= 20: return '4pm_8pm'\n",
    "    else: return '8pm_12am'\n",
    "\n",
    "def get_num_time_buckets_key(bucket):\n",
    "    return 'num_' + keyify_string(bucket)\n",
    "\n",
    "def add_num_time_buckets(checkins, idx):\n",
    "    datetime_objects = [dateutil.parser.parse(ts) + datetime.timedelta(offset)  \\\n",
    "                        for ts, offset in zip(checkins['utcTimestamp'], checkins['timezoneOffset'])]\n",
    "\n",
    "    hours = [time_buckets(dt) for dt in datetime_objects]\n",
    "    c = Counter(hours)\n",
    "    for k, v in zip(c.keys(), c.values()):\n",
    "        examples.loc[idx, get_num_time_buckets_key(k)] = v\n",
    "        \n",
    "possible_time_buckets = ['12am_4am', '4am_8am', '8am_12pm', '12pm_4pm', '4pm_8pm', '8pm_12am']"
   ]
  },
  {
   "cell_type": "markdown",
   "metadata": {},
   "source": [
    "#### feature: num checkins per 4-hour time bucket per weekday"
   ]
  },
  {
   "cell_type": "code",
   "execution_count": 12,
   "metadata": {
    "collapsed": true
   },
   "outputs": [],
   "source": [
    "def get_num_time_buckets_per_weekday(bucket, weekday):\n",
    "    return 'num_' + bucket + '_' + keyify_string(weekday)\n",
    "\n",
    "def add_num_time_buckets_per_weekday(checkins, idx):\n",
    "    datetime_objects = [dateutil.parser.parse(ts) + datetime.timedelta(offset)  \\\n",
    "                        for ts, offset in zip(checkins['utcTimestamp'], checkins['timezoneOffset'])]\n",
    "\n",
    "    buckets_per_weekday = [(time_buckets(dt), datetime.datetime.strftime(dt, '%a')) \n",
    "             for dt in datetime_objects]\n",
    "\n",
    "    c = Counter(buckets_per_weekday)\n",
    "    for k, v in zip(c.keys(), c.values()):\n",
    "        bucket, weekday = k\n",
    "        examples.loc[idx, get_num_time_buckets_per_weekday(bucket, weekday)] = v"
   ]
  },
  {
   "cell_type": "markdown",
   "metadata": {},
   "source": [
    "#### feature: num checkins per 4-hour time bucket per venue category"
   ]
  },
  {
   "cell_type": "code",
   "execution_count": 13,
   "metadata": {
    "collapsed": true
   },
   "outputs": [],
   "source": [
    "def get_num_time_buckets_per_category(bucket, category):\n",
    "    return 'num_' + bucket + '_' + keyify_string(category)\n",
    "\n",
    "def add_num_time_buckets_per_category(checkins, idx):\n",
    "    datetime_objects_per_category = [(dateutil.parser.parse(ts) + datetime.timedelta(offset), category)  \\\n",
    "                        for ts, offset, category in zip(checkins['utcTimestamp'], checkins['timezoneOffset'], \n",
    "                                            checkins['venueCategory'])]\n",
    "\n",
    "    buckets_per_category = [(time_buckets(dt), category) \n",
    "             for dt, category in datetime_objects_per_category]\n",
    "\n",
    "    c = Counter(buckets_per_category)\n",
    "    for k, v in zip(c.keys(), c.values()):\n",
    "        buckets, categories = k\n",
    "        examples.loc[idx, get_num_time_buckets_per_category(buckets, categories)] = v"
   ]
  },
  {
   "cell_type": "markdown",
   "metadata": {},
   "source": [
    "#### feature: num checkins per weekday per venue category"
   ]
  },
  {
   "cell_type": "code",
   "execution_count": 14,
   "metadata": {
    "collapsed": true
   },
   "outputs": [],
   "source": [
    "def get_num_time_buckets_per_week_per_category(bucket, weekday, category):\n",
    "    return 'num_' + bucket + '_' + keyify_string(weekday) + '_ '+ keyify_string(category)\n",
    "\n",
    "def add_num_time_buckets_per_week_per_category(checkins, idx):\n",
    "    datetime_objects_per_category = [(dateutil.parser.parse(ts) + datetime.timedelta(offset), category)  \\\n",
    "                            for ts, offset, category in zip(checkins['utcTimestamp'], checkins['timezoneOffset'], \n",
    "                                                checkins['venueCategory'])]\n",
    "\n",
    "    buckets_per_weekday_per_category = [(time_buckets(dt), datetime.datetime.strftime(dt, '%a'), category) \n",
    "             for dt, category in datetime_objects_per_category]\n",
    "\n",
    "    c = Counter(buckets_per_weekday_per_category)\n",
    "    for k, v in zip(c.keys(), c.values()):\n",
    "        buckets, weekday, categories = k\n",
    "        examples.loc[idx, get_num_time_buckets_per_week_per_category(buckets, weekday, categories)] = v"
   ]
  },
  {
   "cell_type": "code",
   "execution_count": 15,
   "metadata": {},
   "outputs": [
    {
     "data": {
      "text/html": [
       "<div>\n",
       "<style>\n",
       "    .dataframe thead tr:only-child th {\n",
       "        text-align: right;\n",
       "    }\n",
       "\n",
       "    .dataframe thead th {\n",
       "        text-align: left;\n",
       "    }\n",
       "\n",
       "    .dataframe tbody tr th {\n",
       "        vertical-align: top;\n",
       "    }\n",
       "</style>\n",
       "<table border=\"1\" class=\"dataframe\">\n",
       "  <thead>\n",
       "    <tr style=\"text-align: right;\">\n",
       "      <th></th>\n",
       "      <th>census_tract</th>\n",
       "      <th>label</th>\n",
       "    </tr>\n",
       "  </thead>\n",
       "  <tbody>\n",
       "    <tr>\n",
       "      <th>1</th>\n",
       "      <td>36005000200</td>\n",
       "      <td>72034.0</td>\n",
       "    </tr>\n",
       "    <tr>\n",
       "      <th>2</th>\n",
       "      <td>36005000400</td>\n",
       "      <td>74836.0</td>\n",
       "    </tr>\n",
       "    <tr>\n",
       "      <th>3</th>\n",
       "      <td>36005001600</td>\n",
       "      <td>32312.0</td>\n",
       "    </tr>\n",
       "    <tr>\n",
       "      <th>4</th>\n",
       "      <td>36005001900</td>\n",
       "      <td>37936.0</td>\n",
       "    </tr>\n",
       "    <tr>\n",
       "      <th>5</th>\n",
       "      <td>36005002000</td>\n",
       "      <td>18086.0</td>\n",
       "    </tr>\n",
       "  </tbody>\n",
       "</table>\n",
       "</div>"
      ],
      "text/plain": [
       "   census_tract    label\n",
       "1   36005000200  72034.0\n",
       "2   36005000400  74836.0\n",
       "3   36005001600  32312.0\n",
       "4   36005001900  37936.0\n",
       "5   36005002000  18086.0"
      ]
     },
     "execution_count": 15,
     "metadata": {},
     "output_type": "execute_result"
    }
   ],
   "source": [
    "examples.head()"
   ]
  },
  {
   "cell_type": "markdown",
   "metadata": {},
   "source": [
    "### test/select features"
   ]
  },
  {
   "cell_type": "code",
   "execution_count": 16,
   "metadata": {},
   "outputs": [
    {
     "name": "stdout",
     "output_type": "stream",
     "text": [
      "2166 / 2101 examples processedCPU times: user 2min 8s, sys: 5.82 s, total: 2min 14s\n",
      "Wall time: 2min 31s\n"
     ]
    }
   ],
   "source": [
    "%%time \n",
    "\n",
    "import sys\n",
    "\n",
    "no_checkins = 0\n",
    "total_checkins = 0\n",
    "for idx, d in examples['census_tract'].iteritems():\n",
    "    # show progress \n",
    "    sys.stdout.write('\\r' + str(idx+1) + ' / ' + str(len(examples)) + ' examples processed')\n",
    "    sys.stdout.flush()\n",
    "    \n",
    "    # compute all checkins in current census tract\n",
    "    checkins_in_census_tract = checkin_dataset[checkin_dataset['censusTract'] == d]\n",
    "    \n",
    "    # compute metadata\n",
    "    total_checkins += len(checkins_in_census_tract)\n",
    "    if len(checkins_in_census_tract) == 0: \n",
    "        no_checkins += 1\n",
    "    \n",
    "    # add features\n",
    "    add_num_checkins(checkins_in_census_tract, idx)\n",
    "    add_num_category(checkins_in_census_tract, idx)\n",
    "    add_num_weekday(checkins_in_census_tract, idx)\n",
    "    add_num_time_buckets(checkins_in_census_tract, idx)\n",
    "#     add_num_time_buckets_per_category(checkins_in_census_tract, idx)\n",
    "#     add_num_time_buckets_per_weekday(checkins_in_census_tract, idx)\n",
    "#     add_num_time_buckets_per_week_per_category(checkins_in_census_tract, idx)"
   ]
  },
  {
   "cell_type": "code",
   "execution_count": 17,
   "metadata": {},
   "outputs": [
    {
     "name": "stdout",
     "output_type": "stream",
     "text": [
      "no checkin data associated with # businesses: 220\n",
      "174417\n"
     ]
    }
   ],
   "source": [
    "print 'no checkin data associated with # businesses:', no_checkins\n",
    "print total_checkins"
   ]
  },
  {
   "cell_type": "code",
   "execution_count": 18,
   "metadata": {
    "scrolled": true
   },
   "outputs": [
    {
     "name": "stdout",
     "output_type": "stream",
     "text": [
      "(2101, 266)\n"
     ]
    },
    {
     "data": {
      "text/html": [
       "<div>\n",
       "<style>\n",
       "    .dataframe thead tr:only-child th {\n",
       "        text-align: right;\n",
       "    }\n",
       "\n",
       "    .dataframe thead th {\n",
       "        text-align: left;\n",
       "    }\n",
       "\n",
       "    .dataframe tbody tr th {\n",
       "        vertical-align: top;\n",
       "    }\n",
       "</style>\n",
       "<table border=\"1\" class=\"dataframe\">\n",
       "  <thead>\n",
       "    <tr style=\"text-align: right;\">\n",
       "      <th></th>\n",
       "      <th>census_tract</th>\n",
       "      <th>label</th>\n",
       "      <th>num_checkins</th>\n",
       "      <th>num_park</th>\n",
       "      <th>num_fri</th>\n",
       "      <th>num_4pm_8pm</th>\n",
       "      <th>num_thu</th>\n",
       "      <th>num_12pm_4pm</th>\n",
       "      <th>num_bus_station</th>\n",
       "      <th>num_home_private_</th>\n",
       "      <th>...</th>\n",
       "      <th>num_swiss_restaurant</th>\n",
       "      <th>num_peruvian_restaurant</th>\n",
       "      <th>num_gluten_free_restaurant</th>\n",
       "      <th>num_funeral_home</th>\n",
       "      <th>num_law_school</th>\n",
       "      <th>num_pet_service</th>\n",
       "      <th>num_recycling_facility</th>\n",
       "      <th>num_internet_cafe</th>\n",
       "      <th>num_motorcycle_shop</th>\n",
       "      <th>num_planetarium</th>\n",
       "    </tr>\n",
       "  </thead>\n",
       "  <tbody>\n",
       "    <tr>\n",
       "      <th>1</th>\n",
       "      <td>36005000200</td>\n",
       "      <td>72034.0</td>\n",
       "      <td>1.0</td>\n",
       "      <td>1.0</td>\n",
       "      <td>1.0</td>\n",
       "      <td>1.0</td>\n",
       "      <td>NaN</td>\n",
       "      <td>NaN</td>\n",
       "      <td>NaN</td>\n",
       "      <td>NaN</td>\n",
       "      <td>...</td>\n",
       "      <td>NaN</td>\n",
       "      <td>NaN</td>\n",
       "      <td>NaN</td>\n",
       "      <td>NaN</td>\n",
       "      <td>NaN</td>\n",
       "      <td>NaN</td>\n",
       "      <td>NaN</td>\n",
       "      <td>NaN</td>\n",
       "      <td>NaN</td>\n",
       "      <td>NaN</td>\n",
       "    </tr>\n",
       "    <tr>\n",
       "      <th>2</th>\n",
       "      <td>36005000400</td>\n",
       "      <td>74836.0</td>\n",
       "      <td>1.0</td>\n",
       "      <td>1.0</td>\n",
       "      <td>NaN</td>\n",
       "      <td>NaN</td>\n",
       "      <td>1.0</td>\n",
       "      <td>1.0</td>\n",
       "      <td>NaN</td>\n",
       "      <td>NaN</td>\n",
       "      <td>...</td>\n",
       "      <td>NaN</td>\n",
       "      <td>NaN</td>\n",
       "      <td>NaN</td>\n",
       "      <td>NaN</td>\n",
       "      <td>NaN</td>\n",
       "      <td>NaN</td>\n",
       "      <td>NaN</td>\n",
       "      <td>NaN</td>\n",
       "      <td>NaN</td>\n",
       "      <td>NaN</td>\n",
       "    </tr>\n",
       "    <tr>\n",
       "      <th>3</th>\n",
       "      <td>36005001600</td>\n",
       "      <td>32312.0</td>\n",
       "      <td>76.0</td>\n",
       "      <td>NaN</td>\n",
       "      <td>41.0</td>\n",
       "      <td>16.0</td>\n",
       "      <td>1.0</td>\n",
       "      <td>17.0</td>\n",
       "      <td>6.0</td>\n",
       "      <td>15.0</td>\n",
       "      <td>...</td>\n",
       "      <td>NaN</td>\n",
       "      <td>NaN</td>\n",
       "      <td>NaN</td>\n",
       "      <td>NaN</td>\n",
       "      <td>NaN</td>\n",
       "      <td>NaN</td>\n",
       "      <td>NaN</td>\n",
       "      <td>NaN</td>\n",
       "      <td>NaN</td>\n",
       "      <td>NaN</td>\n",
       "    </tr>\n",
       "    <tr>\n",
       "      <th>4</th>\n",
       "      <td>36005001900</td>\n",
       "      <td>37936.0</td>\n",
       "      <td>77.0</td>\n",
       "      <td>NaN</td>\n",
       "      <td>1.0</td>\n",
       "      <td>33.0</td>\n",
       "      <td>5.0</td>\n",
       "      <td>30.0</td>\n",
       "      <td>NaN</td>\n",
       "      <td>NaN</td>\n",
       "      <td>...</td>\n",
       "      <td>NaN</td>\n",
       "      <td>NaN</td>\n",
       "      <td>NaN</td>\n",
       "      <td>NaN</td>\n",
       "      <td>NaN</td>\n",
       "      <td>NaN</td>\n",
       "      <td>NaN</td>\n",
       "      <td>NaN</td>\n",
       "      <td>NaN</td>\n",
       "      <td>NaN</td>\n",
       "    </tr>\n",
       "    <tr>\n",
       "      <th>5</th>\n",
       "      <td>36005002000</td>\n",
       "      <td>18086.0</td>\n",
       "      <td>4.0</td>\n",
       "      <td>NaN</td>\n",
       "      <td>1.0</td>\n",
       "      <td>1.0</td>\n",
       "      <td>NaN</td>\n",
       "      <td>NaN</td>\n",
       "      <td>NaN</td>\n",
       "      <td>NaN</td>\n",
       "      <td>...</td>\n",
       "      <td>NaN</td>\n",
       "      <td>NaN</td>\n",
       "      <td>NaN</td>\n",
       "      <td>NaN</td>\n",
       "      <td>NaN</td>\n",
       "      <td>NaN</td>\n",
       "      <td>NaN</td>\n",
       "      <td>NaN</td>\n",
       "      <td>NaN</td>\n",
       "      <td>NaN</td>\n",
       "    </tr>\n",
       "  </tbody>\n",
       "</table>\n",
       "<p>5 rows × 266 columns</p>\n",
       "</div>"
      ],
      "text/plain": [
       "   census_tract    label  num_checkins  num_park  num_fri  num_4pm_8pm  \\\n",
       "1   36005000200  72034.0           1.0       1.0      1.0          1.0   \n",
       "2   36005000400  74836.0           1.0       1.0      NaN          NaN   \n",
       "3   36005001600  32312.0          76.0       NaN     41.0         16.0   \n",
       "4   36005001900  37936.0          77.0       NaN      1.0         33.0   \n",
       "5   36005002000  18086.0           4.0       NaN      1.0          1.0   \n",
       "\n",
       "   num_thu  num_12pm_4pm  num_bus_station  num_home_private_       ...         \\\n",
       "1      NaN           NaN              NaN                NaN       ...          \n",
       "2      1.0           1.0              NaN                NaN       ...          \n",
       "3      1.0          17.0              6.0               15.0       ...          \n",
       "4      5.0          30.0              NaN                NaN       ...          \n",
       "5      NaN           NaN              NaN                NaN       ...          \n",
       "\n",
       "   num_swiss_restaurant  num_peruvian_restaurant  num_gluten_free_restaurant  \\\n",
       "1                   NaN                      NaN                         NaN   \n",
       "2                   NaN                      NaN                         NaN   \n",
       "3                   NaN                      NaN                         NaN   \n",
       "4                   NaN                      NaN                         NaN   \n",
       "5                   NaN                      NaN                         NaN   \n",
       "\n",
       "   num_funeral_home  num_law_school  num_pet_service  num_recycling_facility  \\\n",
       "1               NaN             NaN              NaN                     NaN   \n",
       "2               NaN             NaN              NaN                     NaN   \n",
       "3               NaN             NaN              NaN                     NaN   \n",
       "4               NaN             NaN              NaN                     NaN   \n",
       "5               NaN             NaN              NaN                     NaN   \n",
       "\n",
       "   num_internet_cafe  num_motorcycle_shop  num_planetarium  \n",
       "1                NaN                  NaN              NaN  \n",
       "2                NaN                  NaN              NaN  \n",
       "3                NaN                  NaN              NaN  \n",
       "4                NaN                  NaN              NaN  \n",
       "5                NaN                  NaN              NaN  \n",
       "\n",
       "[5 rows x 266 columns]"
      ]
     },
     "execution_count": 18,
     "metadata": {},
     "output_type": "execute_result"
    }
   ],
   "source": [
    "print examples.shape\n",
    "examples.head()"
   ]
  },
  {
   "cell_type": "markdown",
   "metadata": {},
   "source": [
    "### test features with nb model"
   ]
  },
  {
   "cell_type": "code",
   "execution_count": 19,
   "metadata": {
    "collapsed": true
   },
   "outputs": [],
   "source": [
    "# split incomes into quartiles\n",
    "income_mapping = {\n",
    "    '9829 <= x <= 39457': (9829, 39457),\n",
    "    '39458 <= x <= 54595': (39458, 54595), \n",
    "    '54596 <= x <= 73345': (54596, 73345), \n",
    "    '73346 <= x <= 244375': (73346, 244375),\n",
    "}\n",
    "\n",
    "# import pdb; pdb.set_trace()\n",
    "for (imk, imv) in income_mapping.iteritems():\n",
    "    examples.loc[(examples['label'] >= imv[0]) & (examples['label'] <= imv[1]), 'label_bucket'] = imk"
   ]
  },
  {
   "cell_type": "code",
   "execution_count": 20,
   "metadata": {},
   "outputs": [
    {
     "data": {
      "text/html": [
       "<div>\n",
       "<style>\n",
       "    .dataframe thead tr:only-child th {\n",
       "        text-align: right;\n",
       "    }\n",
       "\n",
       "    .dataframe thead th {\n",
       "        text-align: left;\n",
       "    }\n",
       "\n",
       "    .dataframe tbody tr th {\n",
       "        vertical-align: top;\n",
       "    }\n",
       "</style>\n",
       "<table border=\"1\" class=\"dataframe\">\n",
       "  <thead>\n",
       "    <tr style=\"text-align: right;\">\n",
       "      <th></th>\n",
       "      <th>census_tract</th>\n",
       "      <th>label</th>\n",
       "      <th>label_bucket</th>\n",
       "      <th>num_checkins</th>\n",
       "      <th>num_park</th>\n",
       "      <th>num_fri</th>\n",
       "      <th>num_4pm_8pm</th>\n",
       "      <th>num_thu</th>\n",
       "      <th>num_12pm_4pm</th>\n",
       "      <th>num_bus_station</th>\n",
       "      <th>...</th>\n",
       "      <th>num_swiss_restaurant</th>\n",
       "      <th>num_peruvian_restaurant</th>\n",
       "      <th>num_gluten_free_restaurant</th>\n",
       "      <th>num_funeral_home</th>\n",
       "      <th>num_law_school</th>\n",
       "      <th>num_pet_service</th>\n",
       "      <th>num_recycling_facility</th>\n",
       "      <th>num_internet_cafe</th>\n",
       "      <th>num_motorcycle_shop</th>\n",
       "      <th>num_planetarium</th>\n",
       "    </tr>\n",
       "  </thead>\n",
       "  <tbody>\n",
       "    <tr>\n",
       "      <th>1</th>\n",
       "      <td>36005000200</td>\n",
       "      <td>72034.0</td>\n",
       "      <td>54596 &lt;= x &lt;= 73345</td>\n",
       "      <td>1.0</td>\n",
       "      <td>1.0</td>\n",
       "      <td>1.0</td>\n",
       "      <td>1.0</td>\n",
       "      <td>0.0</td>\n",
       "      <td>0.0</td>\n",
       "      <td>0.0</td>\n",
       "      <td>...</td>\n",
       "      <td>0.0</td>\n",
       "      <td>0.0</td>\n",
       "      <td>0.0</td>\n",
       "      <td>0.0</td>\n",
       "      <td>0.0</td>\n",
       "      <td>0.0</td>\n",
       "      <td>0.0</td>\n",
       "      <td>0.0</td>\n",
       "      <td>0.0</td>\n",
       "      <td>0.0</td>\n",
       "    </tr>\n",
       "    <tr>\n",
       "      <th>2</th>\n",
       "      <td>36005000400</td>\n",
       "      <td>74836.0</td>\n",
       "      <td>73346 &lt;= x &lt;= 244375</td>\n",
       "      <td>1.0</td>\n",
       "      <td>1.0</td>\n",
       "      <td>0.0</td>\n",
       "      <td>0.0</td>\n",
       "      <td>1.0</td>\n",
       "      <td>1.0</td>\n",
       "      <td>0.0</td>\n",
       "      <td>...</td>\n",
       "      <td>0.0</td>\n",
       "      <td>0.0</td>\n",
       "      <td>0.0</td>\n",
       "      <td>0.0</td>\n",
       "      <td>0.0</td>\n",
       "      <td>0.0</td>\n",
       "      <td>0.0</td>\n",
       "      <td>0.0</td>\n",
       "      <td>0.0</td>\n",
       "      <td>0.0</td>\n",
       "    </tr>\n",
       "    <tr>\n",
       "      <th>3</th>\n",
       "      <td>36005001600</td>\n",
       "      <td>32312.0</td>\n",
       "      <td>9829 &lt;= x &lt;= 39457</td>\n",
       "      <td>76.0</td>\n",
       "      <td>0.0</td>\n",
       "      <td>41.0</td>\n",
       "      <td>16.0</td>\n",
       "      <td>1.0</td>\n",
       "      <td>17.0</td>\n",
       "      <td>6.0</td>\n",
       "      <td>...</td>\n",
       "      <td>0.0</td>\n",
       "      <td>0.0</td>\n",
       "      <td>0.0</td>\n",
       "      <td>0.0</td>\n",
       "      <td>0.0</td>\n",
       "      <td>0.0</td>\n",
       "      <td>0.0</td>\n",
       "      <td>0.0</td>\n",
       "      <td>0.0</td>\n",
       "      <td>0.0</td>\n",
       "    </tr>\n",
       "    <tr>\n",
       "      <th>4</th>\n",
       "      <td>36005001900</td>\n",
       "      <td>37936.0</td>\n",
       "      <td>9829 &lt;= x &lt;= 39457</td>\n",
       "      <td>77.0</td>\n",
       "      <td>0.0</td>\n",
       "      <td>1.0</td>\n",
       "      <td>33.0</td>\n",
       "      <td>5.0</td>\n",
       "      <td>30.0</td>\n",
       "      <td>0.0</td>\n",
       "      <td>...</td>\n",
       "      <td>0.0</td>\n",
       "      <td>0.0</td>\n",
       "      <td>0.0</td>\n",
       "      <td>0.0</td>\n",
       "      <td>0.0</td>\n",
       "      <td>0.0</td>\n",
       "      <td>0.0</td>\n",
       "      <td>0.0</td>\n",
       "      <td>0.0</td>\n",
       "      <td>0.0</td>\n",
       "    </tr>\n",
       "    <tr>\n",
       "      <th>5</th>\n",
       "      <td>36005002000</td>\n",
       "      <td>18086.0</td>\n",
       "      <td>9829 &lt;= x &lt;= 39457</td>\n",
       "      <td>4.0</td>\n",
       "      <td>0.0</td>\n",
       "      <td>1.0</td>\n",
       "      <td>1.0</td>\n",
       "      <td>0.0</td>\n",
       "      <td>0.0</td>\n",
       "      <td>0.0</td>\n",
       "      <td>...</td>\n",
       "      <td>0.0</td>\n",
       "      <td>0.0</td>\n",
       "      <td>0.0</td>\n",
       "      <td>0.0</td>\n",
       "      <td>0.0</td>\n",
       "      <td>0.0</td>\n",
       "      <td>0.0</td>\n",
       "      <td>0.0</td>\n",
       "      <td>0.0</td>\n",
       "      <td>0.0</td>\n",
       "    </tr>\n",
       "  </tbody>\n",
       "</table>\n",
       "<p>5 rows × 267 columns</p>\n",
       "</div>"
      ],
      "text/plain": [
       "   census_tract    label          label_bucket  num_checkins  num_park  \\\n",
       "1   36005000200  72034.0   54596 <= x <= 73345           1.0       1.0   \n",
       "2   36005000400  74836.0  73346 <= x <= 244375           1.0       1.0   \n",
       "3   36005001600  32312.0    9829 <= x <= 39457          76.0       0.0   \n",
       "4   36005001900  37936.0    9829 <= x <= 39457          77.0       0.0   \n",
       "5   36005002000  18086.0    9829 <= x <= 39457           4.0       0.0   \n",
       "\n",
       "   num_fri  num_4pm_8pm  num_thu  num_12pm_4pm  num_bus_station  \\\n",
       "1      1.0          1.0      0.0           0.0              0.0   \n",
       "2      0.0          0.0      1.0           1.0              0.0   \n",
       "3     41.0         16.0      1.0          17.0              6.0   \n",
       "4      1.0         33.0      5.0          30.0              0.0   \n",
       "5      1.0          1.0      0.0           0.0              0.0   \n",
       "\n",
       "        ...         num_swiss_restaurant  num_peruvian_restaurant  \\\n",
       "1       ...                          0.0                      0.0   \n",
       "2       ...                          0.0                      0.0   \n",
       "3       ...                          0.0                      0.0   \n",
       "4       ...                          0.0                      0.0   \n",
       "5       ...                          0.0                      0.0   \n",
       "\n",
       "   num_gluten_free_restaurant  num_funeral_home  num_law_school  \\\n",
       "1                         0.0               0.0             0.0   \n",
       "2                         0.0               0.0             0.0   \n",
       "3                         0.0               0.0             0.0   \n",
       "4                         0.0               0.0             0.0   \n",
       "5                         0.0               0.0             0.0   \n",
       "\n",
       "   num_pet_service  num_recycling_facility  num_internet_cafe  \\\n",
       "1              0.0                     0.0                0.0   \n",
       "2              0.0                     0.0                0.0   \n",
       "3              0.0                     0.0                0.0   \n",
       "4              0.0                     0.0                0.0   \n",
       "5              0.0                     0.0                0.0   \n",
       "\n",
       "   num_motorcycle_shop  num_planetarium  \n",
       "1                  0.0              0.0  \n",
       "2                  0.0              0.0  \n",
       "3                  0.0              0.0  \n",
       "4                  0.0              0.0  \n",
       "5                  0.0              0.0  \n",
       "\n",
       "[5 rows x 267 columns]"
      ]
     },
     "execution_count": 20,
     "metadata": {},
     "output_type": "execute_result"
    }
   ],
   "source": [
    "# fill .nans with 0 \n",
    "examples = examples.fillna(0)\n",
    "\n",
    "# move new col to beginning of matrix\n",
    "cols = list(examples)\n",
    "cols.insert(2, cols.pop(cols.index('label_bucket')))\n",
    "examples = examples[cols]\n",
    "examples.head()"
   ]
  },
  {
   "cell_type": "code",
   "execution_count": 21,
   "metadata": {
    "collapsed": true
   },
   "outputs": [],
   "source": [
    "from sklearn import linear_model\n",
    "from sklearn.metrics import mean_squared_error, r2_score"
   ]
  },
  {
   "cell_type": "code",
   "execution_count": 22,
   "metadata": {
    "collapsed": true
   },
   "outputs": [],
   "source": [
    "# data = pd.read_csv('../common/data/data.csv')\n",
    "x_train = examples.as_matrix()[:, 3:].astype(int) # take all cols after first 2\n",
    "y_train = examples['label']"
   ]
  },
  {
   "cell_type": "code",
   "execution_count": 23,
   "metadata": {
    "collapsed": true
   },
   "outputs": [],
   "source": [
    "y_train = examples['label_bucket']"
   ]
  },
  {
   "cell_type": "code",
   "execution_count": 24,
   "metadata": {},
   "outputs": [
    {
     "name": "stdout",
     "output_type": "stream",
     "text": [
      "Number of mislabeled points out of a total 2101 points : 1292\n",
      "0.38505473584\n"
     ]
    }
   ],
   "source": [
    "from sklearn.naive_bayes import GaussianNB\n",
    "gnb = GaussianNB()\n",
    "y_pred = gnb.fit(x_train, y_train).predict(x_train)\n",
    "print(\"Number of mislabeled points out of a total %d points : %d\" % (x_train.shape[0],(y_train != y_pred).sum()))\n",
    "print 1.0*(y_train == y_pred).sum()/ len(y_pred)"
   ]
  },
  {
   "cell_type": "code",
   "execution_count": 25,
   "metadata": {},
   "outputs": [
    {
     "data": {
      "text/plain": [
       "(2101, 267)"
      ]
     },
     "execution_count": 25,
     "metadata": {},
     "output_type": "execute_result"
    }
   ],
   "source": [
    "examples.shape"
   ]
  },
  {
   "cell_type": "markdown",
   "metadata": {},
   "source": [
    "### uncomment to save file with feature dimensions (`examples.shape[1]-3`) in filename"
   ]
  },
  {
   "cell_type": "code",
   "execution_count": 26,
   "metadata": {
    "collapsed": true
   },
   "outputs": [],
   "source": [
    "# uncomment to save to file\n",
    "# examples.to_csv('../data/processed/cat_264.csv', index=False)"
   ]
  },
  {
   "cell_type": "code",
   "execution_count": null,
   "metadata": {
    "collapsed": true
   },
   "outputs": [],
   "source": []
  }
 ],
 "metadata": {
  "kernelspec": {
   "display_name": "Python 2",
   "language": "python",
   "name": "python2"
  },
  "language_info": {
   "codemirror_mode": {
    "name": "ipython",
    "version": 2
   },
   "file_extension": ".py",
   "mimetype": "text/x-python",
   "name": "python",
   "nbconvert_exporter": "python",
   "pygments_lexer": "ipython2",
   "version": "2.7.13"
  }
 },
 "nbformat": 4,
 "nbformat_minor": 2
}
